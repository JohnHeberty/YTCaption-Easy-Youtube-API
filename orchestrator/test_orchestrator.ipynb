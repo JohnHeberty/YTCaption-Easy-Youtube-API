{
 "cells": [
  {
   "cell_type": "markdown",
   "id": "5a0798c1",
   "metadata": {},
   "source": [
    "# YouTube Caption Orchestrator - Test Notebook\n",
    "\n",
    "Este notebook demonstra como usar a API Orquestradora para processar vídeos do YouTube."
   ]
  },
  {
   "cell_type": "code",
   "execution_count": null,
   "id": "96682890",
   "metadata": {},
   "outputs": [],
   "source": [
    "# Instala requests\n",
    "%pip install requests"
   ]
  },
  {
   "cell_type": "code",
   "execution_count": null,
   "id": "6a21b065",
   "metadata": {},
   "outputs": [],
   "source": [
    "import requests\n",
    "import time\n",
    "import json\n",
    "\n",
    "# Configuração\n",
    "BASE_URL = \"http://localhost:8000\"\n",
    "YOUTUBE_URL = \"https://www.youtube.com/watch?v=dQw4w9WgXcQ\"  # Substitua pela URL desejada"
   ]
  },
  {
   "cell_type": "markdown",
   "id": "0a5d4275",
   "metadata": {},
   "source": [
    "## 1. Health Check"
   ]
  },
  {
   "cell_type": "code",
   "execution_count": null,
   "id": "c14d1aa5",
   "metadata": {},
   "outputs": [],
   "source": [
    "# Verifica saúde do orquestrador e microserviços\n",
    "response = requests.get(f\"{BASE_URL}/health\")\n",
    "print(f\"Status Code: {response.status_code}\")\n",
    "print(json.dumps(response.json(), indent=2))"
   ]
  },
  {
   "cell_type": "markdown",
   "id": "70bf3da8",
   "metadata": {},
   "source": [
    "## 2. Iniciar Pipeline"
   ]
  },
  {
   "cell_type": "code",
   "execution_count": null,
   "id": "440e14e0",
   "metadata": {},
   "outputs": [],
   "source": [
    "# Inicia processamento do vídeo\n",
    "payload = {\n",
    "    \"youtube_url\": YOUTUBE_URL,\n",
    "    \"language\": \"auto\",  # ou \"pt\", \"en\", etc.\n",
    "    \"remove_noise\": True,\n",
    "    \"convert_to_mono\": True,\n",
    "    \"sample_rate_16k\": True\n",
    "}\n",
    "\n",
    "start_time = time.time()\n",
    "response = requests.post(f\"{BASE_URL}/process\", json=payload)\n",
    "elapsed = time.time() - start_time\n",
    "\n",
    "print(f\"Response Time: {elapsed:.3f}s\")\n",
    "print(f\"Status Code: {response.status_code}\")\n",
    "\n",
    "result = response.json()\n",
    "job_id = result[\"job_id\"]\n",
    "\n",
    "print(f\"\\nJob ID: {job_id}\")\n",
    "print(json.dumps(result, indent=2))"
   ]
  },
  {
   "cell_type": "markdown",
   "id": "476f06a4",
   "metadata": {},
   "source": [
    "## 3. Polling do Status"
   ]
  },
  {
   "cell_type": "code",
   "execution_count": null,
   "id": "a284332c",
   "metadata": {},
   "outputs": [],
   "source": [
    "# Acompanha progresso do pipeline\n",
    "def check_job_status(job_id, max_attempts=60, interval=5):\n",
    "    \"\"\"\n",
    "    Faz polling do status do job até completar ou falhar\n",
    "    \"\"\"\n",
    "    for attempt in range(max_attempts):\n",
    "        response = requests.get(f\"{BASE_URL}/jobs/{job_id}\")\n",
    "        \n",
    "        if response.status_code != 200:\n",
    "            print(f\"Erro ao consultar job: {response.status_code}\")\n",
    "            break\n",
    "        \n",
    "        data = response.json()\n",
    "        status = data[\"status\"]\n",
    "        progress = data[\"overall_progress\"]\n",
    "        \n",
    "        # Mostra status dos estágios\n",
    "        stages = data[\"stages\"]\n",
    "        print(f\"\\n[Attempt {attempt + 1}] Status: {status} | Progress: {progress:.1f}%\")\n",
    "        print(f\"  Download: {stages['download']['status']} ({stages['download']['progress']:.1f}%)\")\n",
    "        print(f\"  Normalization: {stages['normalization']['status']} ({stages['normalization']['progress']:.1f}%)\")\n",
    "        print(f\"  Transcription: {stages['transcription']['status']} ({stages['transcription']['progress']:.1f}%)\")\n",
    "        \n",
    "        # Verifica se completou\n",
    "        if status in [\"completed\", \"failed\", \"cancelled\"]:\n",
    "            print(f\"\\n{'='*60}\")\n",
    "            print(f\"Pipeline finalizado com status: {status}\")\n",
    "            print(f\"{'='*60}\")\n",
    "            return data\n",
    "        \n",
    "        time.sleep(interval)\n",
    "    \n",
    "    print(\"\\nTimeout: Pipeline não completou no tempo esperado\")\n",
    "    return None\n",
    "\n",
    "# Executa polling\n",
    "final_result = check_job_status(job_id)"
   ]
  },
  {
   "cell_type": "markdown",
   "id": "9d2c6471",
   "metadata": {},
   "source": [
    "## 4. Resultado Final"
   ]
  },
  {
   "cell_type": "code",
   "execution_count": null,
   "id": "2c9d0833",
   "metadata": {},
   "outputs": [],
   "source": [
    "# Mostra resultado completo\n",
    "if final_result:\n",
    "    print(\"\\n📊 RESULTADO FINAL:\")\n",
    "    print(f\"{'='*60}\")\n",
    "    print(f\"Status: {final_result['status']}\")\n",
    "    print(f\"Progress: {final_result['overall_progress']}%\")\n",
    "    print(f\"\\n📁 Arquivos:\")\n",
    "    print(f\"  Audio: {final_result.get('audio_file', 'N/A')}\")\n",
    "    print(f\"  Transcription: {final_result.get('transcription_file', 'N/A')}\")\n",
    "    \n",
    "    if final_result.get('transcription_text'):\n",
    "        print(f\"\\n📝 Transcrição:\")\n",
    "        print(f\"{'-'*60}\")\n",
    "        print(final_result['transcription_text'][:500])  # Primeiros 500 caracteres\n",
    "        if len(final_result['transcription_text']) > 500:\n",
    "            print(\"\\n[...truncado...]\")\n",
    "    \n",
    "    if final_result.get('error_message'):\n",
    "        print(f\"\\n❌ Erro: {final_result['error_message']}\")\n",
    "    \n",
    "    print(f\"\\n⏱️ Tempos:\")\n",
    "    print(f\"  Criado: {final_result['created_at']}\")\n",
    "    print(f\"  Atualizado: {final_result['updated_at']}\")\n",
    "    print(f\"  Completo: {final_result.get('completed_at', 'N/A')}\")\n",
    "else:\n",
    "    print(\"❌ Não foi possível obter resultado final\")"
   ]
  },
  {
   "cell_type": "markdown",
   "id": "4758d19b",
   "metadata": {},
   "source": [
    "## 5. Listar Jobs Recentes"
   ]
  },
  {
   "cell_type": "code",
   "execution_count": null,
   "id": "90a65dcc",
   "metadata": {},
   "outputs": [],
   "source": [
    "# Lista últimos jobs\n",
    "response = requests.get(f\"{BASE_URL}/jobs?limit=10\")\n",
    "print(f\"Status Code: {response.status_code}\")\n",
    "print(json.dumps(response.json(), indent=2))"
   ]
  },
  {
   "cell_type": "markdown",
   "id": "237fa887",
   "metadata": {},
   "source": [
    "## 6. Estatísticas do Sistema"
   ]
  },
  {
   "cell_type": "code",
   "execution_count": null,
   "id": "aad4b606",
   "metadata": {},
   "outputs": [],
   "source": [
    "# Verifica estatísticas\n",
    "response = requests.get(f\"{BASE_URL}/admin/stats\")\n",
    "print(f\"Status Code: {response.status_code}\")\n",
    "print(json.dumps(response.json(), indent=2))"
   ]
  }
 ],
 "metadata": {
  "language_info": {
   "name": "python"
  }
 },
 "nbformat": 4,
 "nbformat_minor": 5
}
