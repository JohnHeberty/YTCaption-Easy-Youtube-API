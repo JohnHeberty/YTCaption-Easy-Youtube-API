{
 "cells": [
  {
   "cell_type": "code",
   "execution_count": null,
   "id": "4e24258a",
   "metadata": {},
   "outputs": [],
   "source": [
    "%pip install requests"
   ]
  },
  {
   "cell_type": "code",
   "execution_count": null,
   "id": "5aa3f3d5",
   "metadata": {},
   "outputs": [],
   "source": [
    "import os\n",
    "\n",
    "os.chdir(\"..\\\\\")"
   ]
  },
  {
   "cell_type": "code",
   "execution_count": null,
   "id": "a25d240b",
   "metadata": {},
   "outputs": [],
   "source": [
    "os.getcwd()"
   ]
  },
  {
   "cell_type": "code",
   "execution_count": null,
   "id": "4a616452",
   "metadata": {},
   "outputs": [
    {
     "name": "stdout",
     "output_type": "stream",
     "text": [
      "{'id': 'cce9781ed478_transcribe_auto', 'input_file': 'uploads/cce9781ed478_transcribe_auto_Eagles - Hotel California (Live 1977) (Official Video) [HD].webm', 'output_file': 'transcriptions/cce9781ed478_transcribe_auto_transcription.srt', 'status': 'completed', 'operation': 'transcribe', 'language': 'auto', 'filename': 'Eagles - Hotel California (Live 1977) (Official Video) [HD].webm', 'file_size_input': None, 'file_size_output': 5432, 'created_at': '2025-10-27T17:30:01.171148', 'completed_at': None, 'error_message': None, 'expires_at': '2025-10-28T17:30:01.171148', 'progress': 100.0, 'transcription_text': \" I'm still up to lead dance, rising up through the air I pay head in the distance, so is she more in light I hit the heavy on my side, you're dead I had to stop for the night, then she stood in the doorway Her division bell, then I was thinking to myself This could be heaven, this could be hell Didn't you lift up back and up? And she showed me the way Then we'll voices down the corridor Thought I heard them say Welcome to the hotel California Thought you'd love me, please Thought you'd love me, please Thought you'd love me, please Thought you'd love me, please Thought you'd love me, please Maybe time will come You can find it here Her mind is different and twisted She got the Mercedes-Benz ball She got a lot of pretty pretty boys She calls friends How they dance in the courtyard Sweet summer sweat So dance to remember Some dance to forget So I'm calling the captain Please bring me my wine We have it in that desperate list In 1960, man And still those voices are calling for fire Hey Make you laugh in the middle of the night Just till you then say Welcome to the hotel California Thought you'd love me, please Thought you'd love me, please Thought you'd love me, please Will they bring it up in the hotel California What a nice surprise, what a nice surprise So you're all the best Mirrors on the ceiling They picked champagne on ice And she said We were all just prisoners here Of our own device And then the masters chambers Gathered for their feast The stabbit with their stealing eyes But they just can't kill the beast Last thing I remember I was running for the gold I had to find a passage back To the place I was before Relaxed at the nightmare We are a problem to receive You can check out it at time like But you can never leave I was running for the gold I had to find a passage back To the place I was before I was running for the gold I had to find a passage back To the place I was before I was running for the gold I had to find a passage back To the place I was before I was running for the gold I had to find a passage back To the place I was before I was running for the gold I had to find a passage back To the place I was before I was running for the gold I had to find a passage back To the place I was before I was running for the gold I had to find a passage back To the place I was before I was running for the gold I had to find a passage back To the place I was before I was running for the gold I had to find a passage back To the place I was before I was running for the gold\", 'transcription_segments': [{'text': \"I'm still up to lead dance, rising up through the air\", 'start': 60.0, 'end': 67.0, 'duration': 7.0}, {'text': 'I pay head in the distance, so is she more in light', 'start': 67.0, 'end': 73.0, 'duration': 6.0}, {'text': \"I hit the heavy on my side, you're dead\", 'start': 73.0, 'end': 77.0, 'duration': 4.0}, {'text': 'I had to stop for the night, then she stood in the doorway', 'start': 77.0, 'end': 83.0, 'duration': 6.0}, {'text': 'Her division bell, then I was thinking to myself', 'start': 83.0, 'end': 89.0, 'duration': 6.0}, {'text': 'This could be heaven, this could be hell', 'start': 89.0, 'end': 93.0, 'duration': 4.0}, {'text': \"Didn't you lift up back and up?\", 'start': 93.0, 'end': 96.0, 'duration': 3.0}, {'text': 'And she showed me the way', 'start': 96.0, 'end': 99.0, 'duration': 3.0}, {'text': \"Then we'll voices down the corridor\", 'start': 99.0, 'end': 103.0, 'duration': 4.0}, {'text': 'Thought I heard them say', 'start': 103.0, 'end': 106.0, 'duration': 3.0}, {'text': 'Welcome to the hotel California', 'start': 106.0, 'end': 111.0, 'duration': 5.0}, {'text': \"Thought you'd love me, please\", 'start': 111.0, 'end': 114.0, 'duration': 3.0}, {'text': \"Thought you'd love me, please\", 'start': 114.0, 'end': 116.0, 'duration': 2.0}, {'text': \"Thought you'd love me, please\", 'start': 116.0, 'end': 119.0, 'duration': 3.0}, {'text': \"Thought you'd love me, please\", 'start': 119.0, 'end': 122.0, 'duration': 3.0}, {'text': \"Thought you'd love me, please\", 'start': 122.0, 'end': 125.0, 'duration': 3.0}, {'text': 'Maybe time will come', 'start': 125.0, 'end': 128.0, 'duration': 3.0}, {'text': 'You can find it here', 'start': 128.0, 'end': 132.0, 'duration': 4.0}, {'text': 'Her mind is different and twisted', 'start': 132.0, 'end': 136.0, 'duration': 4.0}, {'text': 'She got the Mercedes-Benz ball', 'start': 136.0, 'end': 139.0, 'duration': 3.0}, {'text': 'She got a lot of pretty pretty boys', 'start': 139.0, 'end': 143.0, 'duration': 4.0}, {'text': 'She calls friends', 'start': 143.0, 'end': 146.0, 'duration': 3.0}, {'text': 'How they dance in the courtyard', 'start': 146.0, 'end': 149.0, 'duration': 3.0}, {'text': 'Sweet summer sweat', 'start': 149.0, 'end': 152.0, 'duration': 3.0}, {'text': 'So dance to remember', 'start': 152.0, 'end': 156.0, 'duration': 4.0}, {'text': 'Some dance to forget', 'start': 156.0, 'end': 159.0, 'duration': 3.0}, {'text': \"So I'm calling the captain\", 'start': 159.0, 'end': 162.0, 'duration': 3.0}, {'text': 'Please bring me my wine', 'start': 162.0, 'end': 165.0, 'duration': 3.0}, {'text': 'We have it in that desperate list', 'start': 165.0, 'end': 169.0, 'duration': 4.0}, {'text': 'In 1960, man', 'start': 169.0, 'end': 172.0, 'duration': 3.0}, {'text': 'And still those voices are calling for fire', 'start': 172.0, 'end': 176.0, 'duration': 4.0}, {'text': 'Hey', 'start': 176.0, 'end': 179.0, 'duration': 3.0}, {'text': 'Make you laugh in the middle of the night', 'start': 179.0, 'end': 182.0, 'duration': 3.0}, {'text': 'Just till you then say', 'start': 182.0, 'end': 185.0, 'duration': 3.0}, {'text': 'Welcome to the hotel California', 'start': 185.0, 'end': 190.0, 'duration': 5.0}, {'text': \"Thought you'd love me, please\", 'start': 190.0, 'end': 193.0, 'duration': 3.0}, {'text': \"Thought you'd love me, please\", 'start': 193.0, 'end': 195.0, 'duration': 2.0}, {'text': \"Thought you'd love me, please\", 'start': 195.0, 'end': 198.0, 'duration': 3.0}, {'text': 'Will they bring it up in the hotel California', 'start': 198.0, 'end': 204.0, 'duration': 6.0}, {'text': 'What a nice surprise, what a nice surprise', 'start': 204.0, 'end': 207.0, 'duration': 3.0}, {'text': \"So you're all the best\", 'start': 207.0, 'end': 211.0, 'duration': 4.0}, {'text': 'Mirrors on the ceiling', 'start': 211.0, 'end': 215.0, 'duration': 4.0}, {'text': 'They picked champagne on ice', 'start': 215.0, 'end': 217.0, 'duration': 2.0}, {'text': 'And she said', 'start': 217.0, 'end': 218.0, 'duration': 1.0}, {'text': 'We were all just prisoners here', 'start': 218.0, 'end': 221.0, 'duration': 3.0}, {'text': 'Of our own device', 'start': 221.0, 'end': 225.0, 'duration': 4.0}, {'text': 'And then the masters chambers', 'start': 225.0, 'end': 228.0, 'duration': 3.0}, {'text': 'Gathered for their feast', 'start': 228.0, 'end': 231.0, 'duration': 3.0}, {'text': 'The stabbit with their stealing eyes', 'start': 231.0, 'end': 234.0, 'duration': 3.0}, {'text': \"But they just can't kill the beast\", 'start': 234.0, 'end': 238.0, 'duration': 4.0}, {'text': 'Last thing I remember', 'start': 238.0, 'end': 241.0, 'duration': 3.0}, {'text': 'I was running for the gold', 'start': 241.0, 'end': 245.0, 'duration': 4.0}, {'text': 'I had to find a passage back', 'start': 245.0, 'end': 247.0, 'duration': 2.0}, {'text': 'To the place I was before', 'start': 247.0, 'end': 251.0, 'duration': 4.0}, {'text': 'Relaxed at the nightmare', 'start': 251.0, 'end': 254.0, 'duration': 3.0}, {'text': 'We are a problem to receive', 'start': 254.0, 'end': 258.0, 'duration': 4.0}, {'text': 'You can check out it at time like', 'start': 258.0, 'end': 261.0, 'duration': 3.0}, {'text': 'But you can never leave', 'start': 261.0, 'end': 264.0, 'duration': 3.0}, {'text': 'I was running for the gold', 'start': 314.0, 'end': 317.0, 'duration': 3.0}, {'text': 'I had to find a passage back', 'start': 317.0, 'end': 320.0, 'duration': 3.0}, {'text': 'To the place I was before', 'start': 320.0, 'end': 323.0, 'duration': 3.0}, {'text': 'I was running for the gold', 'start': 323.0, 'end': 326.0, 'duration': 3.0}, {'text': 'I had to find a passage back', 'start': 326.0, 'end': 329.0, 'duration': 3.0}, {'text': 'To the place I was before', 'start': 329.0, 'end': 332.0, 'duration': 3.0}, {'text': 'I was running for the gold', 'start': 332.0, 'end': 335.0, 'duration': 3.0}, {'text': 'I had to find a passage back', 'start': 335.0, 'end': 338.0, 'duration': 3.0}, {'text': 'To the place I was before', 'start': 338.0, 'end': 341.0, 'duration': 3.0}, {'text': 'I was running for the gold', 'start': 341.0, 'end': 344.0, 'duration': 3.0}, {'text': 'I had to find a passage back', 'start': 344.0, 'end': 347.0, 'duration': 3.0}, {'text': 'To the place I was before', 'start': 347.0, 'end': 350.0, 'duration': 3.0}, {'text': 'I was running for the gold', 'start': 350.0, 'end': 353.0, 'duration': 3.0}, {'text': 'I had to find a passage back', 'start': 353.0, 'end': 356.0, 'duration': 3.0}, {'text': 'To the place I was before', 'start': 356.0, 'end': 359.0, 'duration': 3.0}, {'text': 'I was running for the gold', 'start': 359.0, 'end': 362.0, 'duration': 3.0}, {'text': 'I had to find a passage back', 'start': 362.0, 'end': 365.0, 'duration': 3.0}, {'text': 'To the place I was before', 'start': 365.0, 'end': 368.0, 'duration': 3.0}, {'text': 'I was running for the gold', 'start': 368.0, 'end': 371.0, 'duration': 3.0}, {'text': 'I had to find a passage back', 'start': 371.0, 'end': 374.0, 'duration': 3.0}, {'text': 'To the place I was before', 'start': 374.0, 'end': 377.0, 'duration': 3.0}, {'text': 'I was running for the gold', 'start': 377.0, 'end': 380.0, 'duration': 3.0}, {'text': 'I had to find a passage back', 'start': 380.0, 'end': 383.0, 'duration': 3.0}, {'text': 'To the place I was before', 'start': 383.0, 'end': 386.0, 'duration': 3.0}, {'text': 'I was running for the gold', 'start': 386.0, 'end': 389.0, 'duration': 3.0}, {'text': 'I had to find a passage back', 'start': 389.0, 'end': 392.0, 'duration': 3.0}, {'text': 'To the place I was before', 'start': 392.0, 'end': 395.0, 'duration': 3.0}, {'text': 'I was running for the gold', 'start': 398.0, 'end': 401.0, 'duration': 3.0}]}\n"
     ]
    }
   ],
   "source": [
    "import requests\n",
    "import json\n",
    "\n",
    "# Configurações da requisição\n",
    "base_url = \"http://192.168.18.203:8002\"\n",
    "url = f\"{base_url}/jobs\"  # Removido a barra final\n",
    "file_path = \"tests\\\\input\\\\Eagles - Hotel California (Live 1977) (Official Video) [HD].webm\"\n",
    "language = \"en\"  # Idioma desejado\n",
    "\n",
    "# Envia arquivo e parâmetro language corretamente\n",
    "with open(file_path, 'rb') as f:\n",
    "    files = {'file': (file_path.split('\\\\')[-1], f, 'audio/webm')}\n",
    "    data = {'language': language}\n",
    "    \n",
    "    response1 = requests.post(url, files=files, data=data)\n",
    "    print(\"Status Code:\", response1.status_code)\n",
    "    print(\"Response:\", json.dumps(response1.json(), indent=2))\n",
    "    \n",
    "    # Verifica se o language foi respeitado\n",
    "    job_data = response1.json()\n",
    "    print(f\"\\n✅ Language enviado: {language}\")\n",
    "    print(f\"✅ Language no job: {job_data.get('language', 'NOT SET')}\")\n",
    "    \n",
    "    if job_data.get('language') != language:\n",
    "        print(f\"⚠️ AVISO: Linguagem não correspondente!\")"
   ]
  },
  {
   "cell_type": "code",
   "execution_count": 11,
   "id": "711c8062",
   "metadata": {},
   "outputs": [
    {
     "name": "stdout",
     "output_type": "stream",
     "text": [
      "{'id': 'cce9781ed478_transcribe_auto', 'input_file': 'uploads/cce9781ed478_transcribe_auto_Eagles - Hotel California (Live 1977) (Official Video) [HD].webm', 'output_file': 'transcriptions/cce9781ed478_transcribe_auto_transcription.srt', 'status': 'completed', 'operation': 'transcribe', 'language': 'auto', 'filename': 'Eagles - Hotel California (Live 1977) (Official Video) [HD].webm', 'file_size_input': None, 'file_size_output': 5432, 'created_at': '2025-10-27T17:30:01.171148', 'completed_at': None, 'error_message': None, 'expires_at': '2025-10-28T17:30:01.171148', 'progress': 100.0, 'transcription_text': \" I'm still up to lead dance, rising up through the air I pay head in the distance, so is she more in light I hit the heavy on my side, you're dead I had to stop for the night, then she stood in the doorway Her division bell, then I was thinking to myself This could be heaven, this could be hell Didn't you lift up back and up? And she showed me the way Then we'll voices down the corridor Thought I heard them say Welcome to the hotel California Thought you'd love me, please Thought you'd love me, please Thought you'd love me, please Thought you'd love me, please Thought you'd love me, please Maybe time will come You can find it here Her mind is different and twisted She got the Mercedes-Benz ball She got a lot of pretty pretty boys She calls friends How they dance in the courtyard Sweet summer sweat So dance to remember Some dance to forget So I'm calling the captain Please bring me my wine We have it in that desperate list In 1960, man And still those voices are calling for fire Hey Make you laugh in the middle of the night Just till you then say Welcome to the hotel California Thought you'd love me, please Thought you'd love me, please Thought you'd love me, please Will they bring it up in the hotel California What a nice surprise, what a nice surprise So you're all the best Mirrors on the ceiling They picked champagne on ice And she said We were all just prisoners here Of our own device And then the masters chambers Gathered for their feast The stabbit with their stealing eyes But they just can't kill the beast Last thing I remember I was running for the gold I had to find a passage back To the place I was before Relaxed at the nightmare We are a problem to receive You can check out it at time like But you can never leave I was running for the gold I had to find a passage back To the place I was before I was running for the gold I had to find a passage back To the place I was before I was running for the gold I had to find a passage back To the place I was before I was running for the gold I had to find a passage back To the place I was before I was running for the gold I had to find a passage back To the place I was before I was running for the gold I had to find a passage back To the place I was before I was running for the gold I had to find a passage back To the place I was before I was running for the gold I had to find a passage back To the place I was before I was running for the gold I had to find a passage back To the place I was before I was running for the gold\", 'transcription_segments': [{'text': \"I'm still up to lead dance, rising up through the air\", 'start': 60.0, 'end': 67.0, 'duration': 7.0}, {'text': 'I pay head in the distance, so is she more in light', 'start': 67.0, 'end': 73.0, 'duration': 6.0}, {'text': \"I hit the heavy on my side, you're dead\", 'start': 73.0, 'end': 77.0, 'duration': 4.0}, {'text': 'I had to stop for the night, then she stood in the doorway', 'start': 77.0, 'end': 83.0, 'duration': 6.0}, {'text': 'Her division bell, then I was thinking to myself', 'start': 83.0, 'end': 89.0, 'duration': 6.0}, {'text': 'This could be heaven, this could be hell', 'start': 89.0, 'end': 93.0, 'duration': 4.0}, {'text': \"Didn't you lift up back and up?\", 'start': 93.0, 'end': 96.0, 'duration': 3.0}, {'text': 'And she showed me the way', 'start': 96.0, 'end': 99.0, 'duration': 3.0}, {'text': \"Then we'll voices down the corridor\", 'start': 99.0, 'end': 103.0, 'duration': 4.0}, {'text': 'Thought I heard them say', 'start': 103.0, 'end': 106.0, 'duration': 3.0}, {'text': 'Welcome to the hotel California', 'start': 106.0, 'end': 111.0, 'duration': 5.0}, {'text': \"Thought you'd love me, please\", 'start': 111.0, 'end': 114.0, 'duration': 3.0}, {'text': \"Thought you'd love me, please\", 'start': 114.0, 'end': 116.0, 'duration': 2.0}, {'text': \"Thought you'd love me, please\", 'start': 116.0, 'end': 119.0, 'duration': 3.0}, {'text': \"Thought you'd love me, please\", 'start': 119.0, 'end': 122.0, 'duration': 3.0}, {'text': \"Thought you'd love me, please\", 'start': 122.0, 'end': 125.0, 'duration': 3.0}, {'text': 'Maybe time will come', 'start': 125.0, 'end': 128.0, 'duration': 3.0}, {'text': 'You can find it here', 'start': 128.0, 'end': 132.0, 'duration': 4.0}, {'text': 'Her mind is different and twisted', 'start': 132.0, 'end': 136.0, 'duration': 4.0}, {'text': 'She got the Mercedes-Benz ball', 'start': 136.0, 'end': 139.0, 'duration': 3.0}, {'text': 'She got a lot of pretty pretty boys', 'start': 139.0, 'end': 143.0, 'duration': 4.0}, {'text': 'She calls friends', 'start': 143.0, 'end': 146.0, 'duration': 3.0}, {'text': 'How they dance in the courtyard', 'start': 146.0, 'end': 149.0, 'duration': 3.0}, {'text': 'Sweet summer sweat', 'start': 149.0, 'end': 152.0, 'duration': 3.0}, {'text': 'So dance to remember', 'start': 152.0, 'end': 156.0, 'duration': 4.0}, {'text': 'Some dance to forget', 'start': 156.0, 'end': 159.0, 'duration': 3.0}, {'text': \"So I'm calling the captain\", 'start': 159.0, 'end': 162.0, 'duration': 3.0}, {'text': 'Please bring me my wine', 'start': 162.0, 'end': 165.0, 'duration': 3.0}, {'text': 'We have it in that desperate list', 'start': 165.0, 'end': 169.0, 'duration': 4.0}, {'text': 'In 1960, man', 'start': 169.0, 'end': 172.0, 'duration': 3.0}, {'text': 'And still those voices are calling for fire', 'start': 172.0, 'end': 176.0, 'duration': 4.0}, {'text': 'Hey', 'start': 176.0, 'end': 179.0, 'duration': 3.0}, {'text': 'Make you laugh in the middle of the night', 'start': 179.0, 'end': 182.0, 'duration': 3.0}, {'text': 'Just till you then say', 'start': 182.0, 'end': 185.0, 'duration': 3.0}, {'text': 'Welcome to the hotel California', 'start': 185.0, 'end': 190.0, 'duration': 5.0}, {'text': \"Thought you'd love me, please\", 'start': 190.0, 'end': 193.0, 'duration': 3.0}, {'text': \"Thought you'd love me, please\", 'start': 193.0, 'end': 195.0, 'duration': 2.0}, {'text': \"Thought you'd love me, please\", 'start': 195.0, 'end': 198.0, 'duration': 3.0}, {'text': 'Will they bring it up in the hotel California', 'start': 198.0, 'end': 204.0, 'duration': 6.0}, {'text': 'What a nice surprise, what a nice surprise', 'start': 204.0, 'end': 207.0, 'duration': 3.0}, {'text': \"So you're all the best\", 'start': 207.0, 'end': 211.0, 'duration': 4.0}, {'text': 'Mirrors on the ceiling', 'start': 211.0, 'end': 215.0, 'duration': 4.0}, {'text': 'They picked champagne on ice', 'start': 215.0, 'end': 217.0, 'duration': 2.0}, {'text': 'And she said', 'start': 217.0, 'end': 218.0, 'duration': 1.0}, {'text': 'We were all just prisoners here', 'start': 218.0, 'end': 221.0, 'duration': 3.0}, {'text': 'Of our own device', 'start': 221.0, 'end': 225.0, 'duration': 4.0}, {'text': 'And then the masters chambers', 'start': 225.0, 'end': 228.0, 'duration': 3.0}, {'text': 'Gathered for their feast', 'start': 228.0, 'end': 231.0, 'duration': 3.0}, {'text': 'The stabbit with their stealing eyes', 'start': 231.0, 'end': 234.0, 'duration': 3.0}, {'text': \"But they just can't kill the beast\", 'start': 234.0, 'end': 238.0, 'duration': 4.0}, {'text': 'Last thing I remember', 'start': 238.0, 'end': 241.0, 'duration': 3.0}, {'text': 'I was running for the gold', 'start': 241.0, 'end': 245.0, 'duration': 4.0}, {'text': 'I had to find a passage back', 'start': 245.0, 'end': 247.0, 'duration': 2.0}, {'text': 'To the place I was before', 'start': 247.0, 'end': 251.0, 'duration': 4.0}, {'text': 'Relaxed at the nightmare', 'start': 251.0, 'end': 254.0, 'duration': 3.0}, {'text': 'We are a problem to receive', 'start': 254.0, 'end': 258.0, 'duration': 4.0}, {'text': 'You can check out it at time like', 'start': 258.0, 'end': 261.0, 'duration': 3.0}, {'text': 'But you can never leave', 'start': 261.0, 'end': 264.0, 'duration': 3.0}, {'text': 'I was running for the gold', 'start': 314.0, 'end': 317.0, 'duration': 3.0}, {'text': 'I had to find a passage back', 'start': 317.0, 'end': 320.0, 'duration': 3.0}, {'text': 'To the place I was before', 'start': 320.0, 'end': 323.0, 'duration': 3.0}, {'text': 'I was running for the gold', 'start': 323.0, 'end': 326.0, 'duration': 3.0}, {'text': 'I had to find a passage back', 'start': 326.0, 'end': 329.0, 'duration': 3.0}, {'text': 'To the place I was before', 'start': 329.0, 'end': 332.0, 'duration': 3.0}, {'text': 'I was running for the gold', 'start': 332.0, 'end': 335.0, 'duration': 3.0}, {'text': 'I had to find a passage back', 'start': 335.0, 'end': 338.0, 'duration': 3.0}, {'text': 'To the place I was before', 'start': 338.0, 'end': 341.0, 'duration': 3.0}, {'text': 'I was running for the gold', 'start': 341.0, 'end': 344.0, 'duration': 3.0}, {'text': 'I had to find a passage back', 'start': 344.0, 'end': 347.0, 'duration': 3.0}, {'text': 'To the place I was before', 'start': 347.0, 'end': 350.0, 'duration': 3.0}, {'text': 'I was running for the gold', 'start': 350.0, 'end': 353.0, 'duration': 3.0}, {'text': 'I had to find a passage back', 'start': 353.0, 'end': 356.0, 'duration': 3.0}, {'text': 'To the place I was before', 'start': 356.0, 'end': 359.0, 'duration': 3.0}, {'text': 'I was running for the gold', 'start': 359.0, 'end': 362.0, 'duration': 3.0}, {'text': 'I had to find a passage back', 'start': 362.0, 'end': 365.0, 'duration': 3.0}, {'text': 'To the place I was before', 'start': 365.0, 'end': 368.0, 'duration': 3.0}, {'text': 'I was running for the gold', 'start': 368.0, 'end': 371.0, 'duration': 3.0}, {'text': 'I had to find a passage back', 'start': 371.0, 'end': 374.0, 'duration': 3.0}, {'text': 'To the place I was before', 'start': 374.0, 'end': 377.0, 'duration': 3.0}, {'text': 'I was running for the gold', 'start': 377.0, 'end': 380.0, 'duration': 3.0}, {'text': 'I had to find a passage back', 'start': 380.0, 'end': 383.0, 'duration': 3.0}, {'text': 'To the place I was before', 'start': 383.0, 'end': 386.0, 'duration': 3.0}, {'text': 'I was running for the gold', 'start': 386.0, 'end': 389.0, 'duration': 3.0}, {'text': 'I had to find a passage back', 'start': 389.0, 'end': 392.0, 'duration': 3.0}, {'text': 'To the place I was before', 'start': 392.0, 'end': 395.0, 'duration': 3.0}, {'text': 'I was running for the gold', 'start': 398.0, 'end': 401.0, 'duration': 3.0}]}\n"
     ]
    }
   ],
   "source": [
    "url = \"{}/jobs/{}\".format(base_url, response1.json()['id'])\n",
    "response2 = requests.get(url)\n",
    "print(response2.json())"
   ]
  },
  {
   "cell_type": "code",
   "execution_count": null,
   "id": "4d5d027b",
   "metadata": {},
   "outputs": [
    {
     "data": {
      "text/plain": [
       "{'detail': 'Not Found'}"
      ]
     },
     "execution_count": 8,
     "metadata": {},
     "output_type": "execute_result"
    }
   ],
   "source": [
    "response2.json()"
   ]
  }
 ],
 "metadata": {
  "kernelspec": {
   "display_name": ".venv",
   "language": "python",
   "name": "python3"
  },
  "language_info": {
   "codemirror_mode": {
    "name": "ipython",
    "version": 3
   },
   "file_extension": ".py",
   "mimetype": "text/x-python",
   "name": "python",
   "nbconvert_exporter": "python",
   "pygments_lexer": "ipython3",
   "version": "3.12.7"
  }
 },
 "nbformat": 4,
 "nbformat_minor": 5
}
